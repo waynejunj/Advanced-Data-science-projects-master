{
 "cells": [
  {
   "cell_type": "code",
   "execution_count": 2,
   "metadata": {},
   "outputs": [],
   "source": [
    "from tensorflow.keras.preprocessing.image import ImageDataGenerator #This class is used to augment and pre-process image data during training.\n",
    "from keras.models import Sequential\n",
    "from keras.layers import Dense, Dropout, Flatten, Activation, Conv2D, MaxPooling2D\n",
    "# Dropout: This layer is used for regularization to prevent overfitting.\n",
    "# Flatten: This layer flattens the multi-dimensional output of the convolutional layers into a single dimension suitable for feeding into the fully-connected layers.\n",
    "# Activation: This layer applies an activation function (like ReLU) to the output of a layer.\n",
    "# Conv2D: This defines a convolutional layer that extracts features from the input image.\n",
    "# MaxPooling2D: This layer performs downsampling by applying a pooling operation (like max pooling) to reduce the dimensionality of the data.\n",
    "\n",
    "from keras import backend #useful for setting image data format"
   ]
  },
  {
   "cell_type": "code",
   "execution_count": 3,
   "metadata": {},
   "outputs": [],
   "source": [
    "# Def height and width of the image, will be used later when defining the input shape of your CNN model.\n",
    "img_width, img_height = 224, 224"
   ]
  },
  {
   "cell_type": "code",
   "execution_count": 5,
   "metadata": {},
   "outputs": [],
   "source": [
    "# get the images for training and testing\n",
    "import os # provides functions for interacting with the operating system, including manipulating file paths.\n",
    "train_data_dir = os.path.join(\"/v_data/train\")  # 200 Cars, 200 Planes\n",
    "test_data_dir = os.path.join(\"/v_data/test\")  # 50 Cars, 50 Planes"
   ]
  },
  {
   "cell_type": "code",
   "execution_count": 6,
   "metadata": {},
   "outputs": [],
   "source": [
    "# see the images\n",
    "import glob #provides functions for finding all pathnames matching a specific pattern.\n",
    "from IPython.display import Image, display #specifically used within Colab notebooks to display images.\n",
    "for imageName in glob.glob(\"/content/drive/MyDrive/v_data/train/cars/*\"):\n",
    "       display(Image(filename=imageName))"
   ]
  }
 ],
 "metadata": {
  "kernelspec": {
   "display_name": "Python 3",
   "language": "python",
   "name": "python3"
  },
  "language_info": {
   "codemirror_mode": {
    "name": "ipython",
    "version": 3
   },
   "file_extension": ".py",
   "mimetype": "text/x-python",
   "name": "python",
   "nbconvert_exporter": "python",
   "pygments_lexer": "ipython3",
   "version": "3.9.2"
  }
 },
 "nbformat": 4,
 "nbformat_minor": 2
}
