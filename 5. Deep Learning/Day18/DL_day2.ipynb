{
 "cells": [
  {
   "cell_type": "code",
   "execution_count": 2,
   "metadata": {},
   "outputs": [
    {
     "data": {
      "text/html": [
       "<div>\n",
       "<style scoped>\n",
       "    .dataframe tbody tr th:only-of-type {\n",
       "        vertical-align: middle;\n",
       "    }\n",
       "\n",
       "    .dataframe tbody tr th {\n",
       "        vertical-align: top;\n",
       "    }\n",
       "\n",
       "    .dataframe thead th {\n",
       "        text-align: right;\n",
       "    }\n",
       "</style>\n",
       "<table border=\"1\" class=\"dataframe\">\n",
       "  <thead>\n",
       "    <tr style=\"text-align: right;\">\n",
       "      <th></th>\n",
       "      <th>TV</th>\n",
       "      <th>Radio</th>\n",
       "      <th>Newspaper</th>\n",
       "      <th>Sales</th>\n",
       "    </tr>\n",
       "  </thead>\n",
       "  <tbody>\n",
       "    <tr>\n",
       "      <th>0</th>\n",
       "      <td>230.1</td>\n",
       "      <td>37.8</td>\n",
       "      <td>69.2</td>\n",
       "      <td>22.1</td>\n",
       "    </tr>\n",
       "    <tr>\n",
       "      <th>1</th>\n",
       "      <td>44.5</td>\n",
       "      <td>39.3</td>\n",
       "      <td>45.1</td>\n",
       "      <td>10.4</td>\n",
       "    </tr>\n",
       "    <tr>\n",
       "      <th>2</th>\n",
       "      <td>17.2</td>\n",
       "      <td>45.9</td>\n",
       "      <td>69.3</td>\n",
       "      <td>9.3</td>\n",
       "    </tr>\n",
       "    <tr>\n",
       "      <th>3</th>\n",
       "      <td>151.5</td>\n",
       "      <td>41.3</td>\n",
       "      <td>58.5</td>\n",
       "      <td>18.5</td>\n",
       "    </tr>\n",
       "    <tr>\n",
       "      <th>4</th>\n",
       "      <td>180.8</td>\n",
       "      <td>10.8</td>\n",
       "      <td>58.4</td>\n",
       "      <td>12.9</td>\n",
       "    </tr>\n",
       "  </tbody>\n",
       "</table>\n",
       "</div>"
      ],
      "text/plain": [
       "      TV  Radio  Newspaper  Sales\n",
       "0  230.1   37.8       69.2   22.1\n",
       "1   44.5   39.3       45.1   10.4\n",
       "2   17.2   45.9       69.3    9.3\n",
       "3  151.5   41.3       58.5   18.5\n",
       "4  180.8   10.8       58.4   12.9"
      ]
     },
     "execution_count": 2,
     "metadata": {},
     "output_type": "execute_result"
    }
   ],
   "source": [
    "# Regression\n",
    "import pandas\n",
    "data = pandas.read_csv(\"Advertising.csv\")\n",
    "data.head()"
   ]
  },
  {
   "cell_type": "code",
   "execution_count": 5,
   "metadata": {},
   "outputs": [
    {
     "data": {
      "text/plain": [
       "array([[116. ,   7.7,  23.1],\n",
       "       [177. ,   9.3,   6.4],\n",
       "       [ 43.1,  26.7,  35.1],\n",
       "       [ 62.3,  12.6,  18.3],\n",
       "       [224. ,   2.4,  15.6],\n",
       "       [ 38.2,   3.7,  13.8],\n",
       "       [ 70.6,  16. ,  40.8],\n",
       "       [147.3,  23.9,  19.1],\n",
       "       [104.6,   5.7,  34.4],\n",
       "       [ 76.3,  27.5,  16. ],\n",
       "       [ 78.2,  46.8,  34.5],\n",
       "       [168.4,   7.1,  12.8],\n",
       "       [  8.7,  48.9,  75. ],\n",
       "       [  7.8,  38.9,  50.6],\n",
       "       [ 76.4,   0.8,  14.8],\n",
       "       [129.4,   5.7,  31.3],\n",
       "       [ 73.4,  17. ,  12.9],\n",
       "       [289.7,  42.3,  51.2],\n",
       "       [ 19.6,  20.1,  17. ],\n",
       "       [197.6,   3.5,   5.9],\n",
       "       [284.3,  10.6,   6.4],\n",
       "       [184.9,  21. ,  22. ],\n",
       "       [112.9,  17.4,  38.6],\n",
       "       [ 23.8,  35.1,  65.9],\n",
       "       [290.7,   4.1,   8.5],\n",
       "       [ 19.4,  16. ,  22.3],\n",
       "       [293.6,  27.7,   1.8],\n",
       "       [ 18.7,  12.1,  23.4],\n",
       "       [134.3,   4.9,   9.3],\n",
       "       [ 25.6,  39. ,   9.3],\n",
       "       [100.4,   9.6,   3.6],\n",
       "       [ 80.2,   0. ,   9.2],\n",
       "       [188.4,  18.1,  25.6],\n",
       "       [177. ,  33.4,  38.7],\n",
       "       [125.7,  36.9,  79.2],\n",
       "       [209.6,  20.6,  10.7],\n",
       "       [142.9,  29.3,  12.6],\n",
       "       [184.9,  43.9,   1.7],\n",
       "       [222.4,   4.3,  49.8],\n",
       "       [241.7,  38. ,  23.2],\n",
       "       [ 17.2,  45.9,  69.3],\n",
       "       [120.5,  28.5,  14.2],\n",
       "       [ 89.7,   9.9,  35.7],\n",
       "       [191.1,  28.7,  18.2],\n",
       "       [ 75.5,  10.8,   6. ],\n",
       "       [193.2,  18.4,  65.7],\n",
       "       [ 85.7,  35.8,  49.3],\n",
       "       [266.9,  43.8,   5. ],\n",
       "       [ 39.5,  41.1,   5.8],\n",
       "       [261.3,  42.7,  54.7],\n",
       "       [ 13.2,  15.9,  49.6],\n",
       "       [193.7,  35.4,  75.6],\n",
       "       [296.4,  36.3, 100.9],\n",
       "       [265.6,  20. ,   0.3],\n",
       "       [214.7,  24. ,   4. ],\n",
       "       [149.7,  35.6,   6. ],\n",
       "       [131.7,  18.4,  34.6],\n",
       "       [ 57.5,  32.8,  23.5],\n",
       "       [240.1,  16.7,  22.9],\n",
       "       [141.3,  26.8,  46.2],\n",
       "       [180.8,  10.8,  58.4],\n",
       "       [ 97.2,   1.5,  30. ],\n",
       "       [220.5,  33.2,  37.9],\n",
       "       [140.3,   1.9,   9. ],\n",
       "       [255.4,  26.9,   5.5],\n",
       "       [ 96.2,  14.8,  38.9],\n",
       "       [ 66.1,   5.8,  24.2],\n",
       "       [239.3,  15.5,  27.3],\n",
       "       [175.7,  15.4,   2.4],\n",
       "       [240.1,   7.3,   8.7],\n",
       "       [ 17.9,  37.6,  21.6],\n",
       "       [230.1,  37.8,  69.2],\n",
       "       [283.6,  42. ,  66.2],\n",
       "       [171.3,  39.7,  37.7],\n",
       "       [199.1,  30.6,  38.7],\n",
       "       [123.1,  34.6,  12.4],\n",
       "       [131.1,  42.8,  28.9],\n",
       "       [ 25.1,  25.7,  43.3],\n",
       "       [163.5,  36.8,   7.4],\n",
       "       [248.8,  27.1,  22.9],\n",
       "       [202.5,  22.3,  31.6],\n",
       "       [ 13.1,   0.4,  25.6],\n",
       "       [  4.1,  11.6,   5.7],\n",
       "       [ 93.9,  43.5,  50.5],\n",
       "       [262.9,   3.5,  19.5],\n",
       "       [228.3,  16.9,  26.2],\n",
       "       [253.8,  21.3,  30. ],\n",
       "       [243.2,  49. ,  44.3],\n",
       "       [239.8,   4.1,  36.9],\n",
       "       [228. ,  37.7,  32. ],\n",
       "       [215.4,  23.6,  57.6],\n",
       "       [239.9,  41.5,  18.5],\n",
       "       [107.4,  14. ,  10.9],\n",
       "       [187.8,  21.1,   9.5],\n",
       "       [206.9,   8.4,  26.4],\n",
       "       [ 43. ,  25.9,  20.5],\n",
       "       [151.5,  41.3,  58.5],\n",
       "       [137.9,  46.4,  59. ],\n",
       "       [182.6,  46.2,  58.7],\n",
       "       [219.8,  33.5,  45.1],\n",
       "       [156.6,   2.6,   8.3],\n",
       "       [276.7,   2.3,  23.7],\n",
       "       [205. ,  45.1,  19.6],\n",
       "       [ 66.9,  11.7,  36.8],\n",
       "       [ 76.4,  26.7,  22.3],\n",
       "       [ 95.7,   1.4,   7.4],\n",
       "       [120.2,  19.6,  11.6],\n",
       "       [225.8,   8.2,  56.5],\n",
       "       [ 28.6,   1.5,  33. ],\n",
       "       [ 68.4,  44.5,  35.6],\n",
       "       [248.4,  30.2,  20.3],\n",
       "       [218.5,   5.4,  27.4],\n",
       "       [109.8,  47.8,  51.4],\n",
       "       [  8.6,   2.1,   1. ],\n",
       "       [ 97.5,   7.6,   7.2],\n",
       "       [210.7,  29.5,   9.3],\n",
       "       [164.5,  20.9,  47.4],\n",
       "       [265.2,   2.9,  43. ],\n",
       "       [281.4,  39.6,  55.8],\n",
       "       [ 26.8,  33. ,  19.3],\n",
       "       [276.9,  48.9,  41.8],\n",
       "       [ 36.9,  38.6,  65.6],\n",
       "       [206.8,   5.2,  19.4],\n",
       "       [287.6,  43. ,  71.8],\n",
       "       [102.7,  29.6,   8.4],\n",
       "       [262.7,  28.8,  15.9],\n",
       "       [ 90.4,   0.3,  23.2],\n",
       "       [199.8,   3.1,  34.6],\n",
       "       [ 94.2,   4.9,   8.1],\n",
       "       [210.8,  49.6,  37.7],\n",
       "       [227.2,  15.8,  49.9],\n",
       "       [ 88.3,  25.5,  73.4],\n",
       "       [237.4,   5.1,  23.5],\n",
       "       [136.2,  19.2,  16.6],\n",
       "       [172.5,  18.1,  30.7],\n",
       "       [ 17.2,   4.1,  31.6],\n",
       "       [ 59.6,  12. ,  43.1],\n",
       "       [ 74.7,  49.4,  45.7],\n",
       "       [149.8,   1.3,  24.3],\n",
       "       [166.8,  42. ,   3.6],\n",
       "       [ 44.5,  39.3,  45.1],\n",
       "       [216.4,  41.7,  39.6],\n",
       "       [ 44.7,  25.8,  20.6],\n",
       "       [  0.7,  39.6,   8.7],\n",
       "       [121. ,   8.4,  48.7],\n",
       "       [187.9,  17.2,  17.9],\n",
       "       [135.2,  41.7,  45.9],\n",
       "       [139.2,  14.3,  25.6],\n",
       "       [110.7,  40.6,  63.2],\n",
       "       [213.4,  24.6,  13.1],\n",
       "       [ 18.8,  21.7,  50.4],\n",
       "       [232.1,   8.6,   8.7],\n",
       "       [218.4,  27.7,  53.4],\n",
       "       [286. ,  13.9,   3.7],\n",
       "       [109.8,  14.3,  31.7],\n",
       "       [ 25. ,  11. ,  29.7],\n",
       "       [204.1,  32.9,  46. ],\n",
       "       [217.7,  33.5,  59. ],\n",
       "       [165.6,  10. ,  17.6],\n",
       "       [280.2,  10.1,  21.4]])"
      ]
     },
     "execution_count": 5,
     "metadata": {},
     "output_type": "execute_result"
    }
   ],
   "source": [
    "# Split the dataset into features and the target variable, and then normalize the features.\n",
    "from sklearn.model_selection import train_test_split\n",
    "\n",
    "\n",
    "\n",
    "# Split the dataset into features and target variable\n",
    "array = data.values\n",
    "X = array[:, 0:3]  # TV, Radio, Newspaper\n",
    "Y = array[:, 3]  # Sales\n",
    "\n",
    "# Split the data into training and testing sets\n",
    "X_train, X_test, Y_train, Y_test = train_test_split(X, Y, test_size=0.2, random_state=42)\n",
    "\n",
    "X_train"
   ]
  },
  {
   "cell_type": "code",
   "execution_count": 11,
   "metadata": {},
   "outputs": [
    {
     "data": {
      "text/html": [
       "<pre style=\"white-space:pre;overflow-x:auto;line-height:normal;font-family:Menlo,'DejaVu Sans Mono',consolas,'Courier New',monospace\"><span style=\"font-weight: bold\">Model: \"sequential_1\"</span>\n",
       "</pre>\n"
      ],
      "text/plain": [
       "\u001b[1mModel: \"sequential_1\"\u001b[0m\n"
      ]
     },
     "metadata": {},
     "output_type": "display_data"
    },
    {
     "data": {
      "text/html": [
       "<pre style=\"white-space:pre;overflow-x:auto;line-height:normal;font-family:Menlo,'DejaVu Sans Mono',consolas,'Courier New',monospace\">┏━━━━━━━━━━━━━━━━━━━━━━━━━━━━━━━━━┳━━━━━━━━━━━━━━━━━━━━━━━━┳━━━━━━━━━━━━━━━┓\n",
       "┃<span style=\"font-weight: bold\"> Layer (type)                    </span>┃<span style=\"font-weight: bold\"> Output Shape           </span>┃<span style=\"font-weight: bold\">       Param # </span>┃\n",
       "┡━━━━━━━━━━━━━━━━━━━━━━━━━━━━━━━━━╇━━━━━━━━━━━━━━━━━━━━━━━━╇━━━━━━━━━━━━━━━┩\n",
       "│ dense_5 (<span style=\"color: #0087ff; text-decoration-color: #0087ff\">Dense</span>)                 │ (<span style=\"color: #00d7ff; text-decoration-color: #00d7ff\">None</span>, <span style=\"color: #00af00; text-decoration-color: #00af00\">500</span>)            │         <span style=\"color: #00af00; text-decoration-color: #00af00\">2,000</span> │\n",
       "├─────────────────────────────────┼────────────────────────┼───────────────┤\n",
       "│ dense_6 (<span style=\"color: #0087ff; text-decoration-color: #0087ff\">Dense</span>)                 │ (<span style=\"color: #00d7ff; text-decoration-color: #00d7ff\">None</span>, <span style=\"color: #00af00; text-decoration-color: #00af00\">100</span>)            │        <span style=\"color: #00af00; text-decoration-color: #00af00\">50,100</span> │\n",
       "├─────────────────────────────────┼────────────────────────┼───────────────┤\n",
       "│ dropout (<span style=\"color: #0087ff; text-decoration-color: #0087ff\">Dropout</span>)               │ (<span style=\"color: #00d7ff; text-decoration-color: #00d7ff\">None</span>, <span style=\"color: #00af00; text-decoration-color: #00af00\">100</span>)            │             <span style=\"color: #00af00; text-decoration-color: #00af00\">0</span> │\n",
       "├─────────────────────────────────┼────────────────────────┼───────────────┤\n",
       "│ dense_7 (<span style=\"color: #0087ff; text-decoration-color: #0087ff\">Dense</span>)                 │ (<span style=\"color: #00d7ff; text-decoration-color: #00d7ff\">None</span>, <span style=\"color: #00af00; text-decoration-color: #00af00\">50</span>)             │         <span style=\"color: #00af00; text-decoration-color: #00af00\">5,050</span> │\n",
       "├─────────────────────────────────┼────────────────────────┼───────────────┤\n",
       "│ dense_8 (<span style=\"color: #0087ff; text-decoration-color: #0087ff\">Dense</span>)                 │ (<span style=\"color: #00d7ff; text-decoration-color: #00d7ff\">None</span>, <span style=\"color: #00af00; text-decoration-color: #00af00\">50</span>)             │         <span style=\"color: #00af00; text-decoration-color: #00af00\">2,550</span> │\n",
       "├─────────────────────────────────┼────────────────────────┼───────────────┤\n",
       "│ dense_9 (<span style=\"color: #0087ff; text-decoration-color: #0087ff\">Dense</span>)                 │ (<span style=\"color: #00d7ff; text-decoration-color: #00d7ff\">None</span>, <span style=\"color: #00af00; text-decoration-color: #00af00\">1</span>)              │            <span style=\"color: #00af00; text-decoration-color: #00af00\">51</span> │\n",
       "└─────────────────────────────────┴────────────────────────┴───────────────┘\n",
       "</pre>\n"
      ],
      "text/plain": [
       "┏━━━━━━━━━━━━━━━━━━━━━━━━━━━━━━━━━┳━━━━━━━━━━━━━━━━━━━━━━━━┳━━━━━━━━━━━━━━━┓\n",
       "┃\u001b[1m \u001b[0m\u001b[1mLayer (type)                   \u001b[0m\u001b[1m \u001b[0m┃\u001b[1m \u001b[0m\u001b[1mOutput Shape          \u001b[0m\u001b[1m \u001b[0m┃\u001b[1m \u001b[0m\u001b[1m      Param #\u001b[0m\u001b[1m \u001b[0m┃\n",
       "┡━━━━━━━━━━━━━━━━━━━━━━━━━━━━━━━━━╇━━━━━━━━━━━━━━━━━━━━━━━━╇━━━━━━━━━━━━━━━┩\n",
       "│ dense_5 (\u001b[38;5;33mDense\u001b[0m)                 │ (\u001b[38;5;45mNone\u001b[0m, \u001b[38;5;34m500\u001b[0m)            │         \u001b[38;5;34m2,000\u001b[0m │\n",
       "├─────────────────────────────────┼────────────────────────┼───────────────┤\n",
       "│ dense_6 (\u001b[38;5;33mDense\u001b[0m)                 │ (\u001b[38;5;45mNone\u001b[0m, \u001b[38;5;34m100\u001b[0m)            │        \u001b[38;5;34m50,100\u001b[0m │\n",
       "├─────────────────────────────────┼────────────────────────┼───────────────┤\n",
       "│ dropout (\u001b[38;5;33mDropout\u001b[0m)               │ (\u001b[38;5;45mNone\u001b[0m, \u001b[38;5;34m100\u001b[0m)            │             \u001b[38;5;34m0\u001b[0m │\n",
       "├─────────────────────────────────┼────────────────────────┼───────────────┤\n",
       "│ dense_7 (\u001b[38;5;33mDense\u001b[0m)                 │ (\u001b[38;5;45mNone\u001b[0m, \u001b[38;5;34m50\u001b[0m)             │         \u001b[38;5;34m5,050\u001b[0m │\n",
       "├─────────────────────────────────┼────────────────────────┼───────────────┤\n",
       "│ dense_8 (\u001b[38;5;33mDense\u001b[0m)                 │ (\u001b[38;5;45mNone\u001b[0m, \u001b[38;5;34m50\u001b[0m)             │         \u001b[38;5;34m2,550\u001b[0m │\n",
       "├─────────────────────────────────┼────────────────────────┼───────────────┤\n",
       "│ dense_9 (\u001b[38;5;33mDense\u001b[0m)                 │ (\u001b[38;5;45mNone\u001b[0m, \u001b[38;5;34m1\u001b[0m)              │            \u001b[38;5;34m51\u001b[0m │\n",
       "└─────────────────────────────────┴────────────────────────┴───────────────┘\n"
      ]
     },
     "metadata": {},
     "output_type": "display_data"
    },
    {
     "data": {
      "text/html": [
       "<pre style=\"white-space:pre;overflow-x:auto;line-height:normal;font-family:Menlo,'DejaVu Sans Mono',consolas,'Courier New',monospace\"><span style=\"font-weight: bold\"> Total params: </span><span style=\"color: #00af00; text-decoration-color: #00af00\">59,751</span> (233.40 KB)\n",
       "</pre>\n"
      ],
      "text/plain": [
       "\u001b[1m Total params: \u001b[0m\u001b[38;5;34m59,751\u001b[0m (233.40 KB)\n"
      ]
     },
     "metadata": {},
     "output_type": "display_data"
    },
    {
     "data": {
      "text/html": [
       "<pre style=\"white-space:pre;overflow-x:auto;line-height:normal;font-family:Menlo,'DejaVu Sans Mono',consolas,'Courier New',monospace\"><span style=\"font-weight: bold\"> Trainable params: </span><span style=\"color: #00af00; text-decoration-color: #00af00\">59,751</span> (233.40 KB)\n",
       "</pre>\n"
      ],
      "text/plain": [
       "\u001b[1m Trainable params: \u001b[0m\u001b[38;5;34m59,751\u001b[0m (233.40 KB)\n"
      ]
     },
     "metadata": {},
     "output_type": "display_data"
    },
    {
     "data": {
      "text/html": [
       "<pre style=\"white-space:pre;overflow-x:auto;line-height:normal;font-family:Menlo,'DejaVu Sans Mono',consolas,'Courier New',monospace\"><span style=\"font-weight: bold\"> Non-trainable params: </span><span style=\"color: #00af00; text-decoration-color: #00af00\">0</span> (0.00 B)\n",
       "</pre>\n"
      ],
      "text/plain": [
       "\u001b[1m Non-trainable params: \u001b[0m\u001b[38;5;34m0\u001b[0m (0.00 B)\n"
      ]
     },
     "metadata": {},
     "output_type": "display_data"
    }
   ],
   "source": [
    "from keras.models import Sequential\n",
    "from keras.layers import Dense, Dropout\n",
    "\n",
    "# Initialize the model\n",
    "model = Sequential()\n",
    "# Input Layer\n",
    "model.add(Dense(500, input_dim=3, activation=\"relu\"))\n",
    "# 1 Hidden Layer\n",
    "model.add(Dense(100, activation=\"relu\"))\n",
    "# Dropout\n",
    "model.add(Dropout(0.2))\n",
    "# 2 Hidden Layers\n",
    "model.add(Dense(50, activation=\"relu\"))\n",
    "model.add(Dense(50, activation=\"relu\"))\n",
    "# Output Layer\n",
    "model.add(Dense(1))\n",
    "\n",
    "# Compile the model\n",
    "model.compile(optimizer='adam', loss='mean_squared_error')\n",
    "\n",
    "\n",
    "# Model summary\n",
    "model.summary()\n"
   ]
  },
  {
   "cell_type": "code",
   "execution_count": 14,
   "metadata": {},
   "outputs": [
    {
     "name": "stdout",
     "output_type": "stream",
     "text": [
      "\u001b[1m2/2\u001b[0m \u001b[32m━━━━━━━━━━━━━━━━━━━━\u001b[0m\u001b[37m\u001b[0m \u001b[1m10s\u001b[0m 81ms/step - loss: 191.8230\n",
      "Test loss: 195.05686950683594\n"
     ]
    }
   ],
   "source": [
    "# Evaluate the model's performance on the test data.\n",
    "# Evaluate the model\n",
    "loss = model.evaluate(X_test, Y_test)\n",
    "print(f'Test loss: {loss}')\n"
   ]
  },
  {
   "cell_type": "code",
   "execution_count": 2,
   "metadata": {},
   "outputs": [
    {
     "name": "stdout",
     "output_type": "stream",
     "text": [
      "X_train shape (60000, 28, 28)\n",
      "y_train shape (60000,)\n",
      "X_test shape (10000, 28, 28)\n",
      "y_test shape (10000,)\n"
     ]
    }
   ],
   "source": [
    "# Make predictions\n",
    "predictions = model.predict(X_test)\n",
    "\n",
    "# Compare predictions with actual values\n",
    "import matplotlib.pyplot as plt\n",
    "\n",
    "plt.scatter(Y_test, predictions)\n",
    "plt.xlabel('Actual Sales')\n",
    "plt.ylabel('Predicted Sales')\n",
    "plt.title('Actual vs Predicted Sales')\n",
    "plt.show()"
   ]
  }
 ],
 "metadata": {
  "kernelspec": {
   "display_name": "Python 3",
   "language": "python",
   "name": "python3"
  },
  "language_info": {
   "codemirror_mode": {
    "name": "ipython",
    "version": 3
   },
   "file_extension": ".py",
   "mimetype": "text/x-python",
   "name": "python",
   "nbconvert_exporter": "python",
   "pygments_lexer": "ipython3",
   "version": "3.9.2"
  }
 },
 "nbformat": 4,
 "nbformat_minor": 2
}
